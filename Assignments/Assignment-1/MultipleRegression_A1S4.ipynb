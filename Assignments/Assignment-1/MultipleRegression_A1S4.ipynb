{
  "cells": [
    {
      "cell_type": "code",
      "execution_count": 210,
      "metadata": {
        "id": "QyAPqvVHUy_B"
      },
      "outputs": [],
      "source": [
        "import math\n",
        "import numpy as np\n",
        "import pandas as pd\n",
        "from scipy.linalg import pinv\n",
        "import matplotlib.pyplot as plt\n",
        "from sklearn.linear_model import LinearRegression\n",
        "from sklearn.model_selection import train_test_split\n",
        "from sklearn.metrics import r2_score\n",
        "from sklearn.metrics import mean_absolute_error,mean_squared_error"
      ]
    },
    {
      "cell_type": "code",
      "execution_count": 211,
      "metadata": {
        "colab": {
          "base_uri": "https://localhost:8080/"
        },
        "id": "k02K9wDIVcm9",
        "outputId": "d56cb63b-5af5-46c9-c132-ac1cd02f6d50"
      },
      "outputs": [
        {
          "output_type": "execute_result",
          "data": {
            "text/plain": [
              "2"
            ]
          },
          "metadata": {},
          "execution_count": 211
        }
      ],
      "source": [
        "# Reading dataset\n",
        "data1 = pd.read_csv(\"/content/drive/MyDrive/Colab Notebooks/ML/Data2.csv\")\n",
        "data1.insert(0, \"x0\", 1) # adding one more dimension with values 1\n",
        "try:\n",
        "  data1.drop(columns=[\"Sl.\"], inplace=True)\n",
        "except:\n",
        "  None\n",
        "\n",
        "# Renaming columns to y\n",
        "cols = data1.columns.to_list()\n",
        "if 'y' not in cols:\n",
        "  col_map = {cols[-1]: 'y'}\n",
        "  data1.rename(columns=col_map, inplace=True)\n",
        "\n",
        "dimension = len(data1.columns)-1\n",
        "dimension"
      ]
    },
    {
      "cell_type": "code",
      "execution_count": 212,
      "metadata": {
        "colab": {
          "base_uri": "https://localhost:8080/",
          "height": 423
        },
        "id": "la9ngvSbUmpB",
        "outputId": "147870ce-e5dc-42b8-908a-bf39639632bd"
      },
      "outputs": [
        {
          "output_type": "execute_result",
          "data": {
            "text/plain": [
              "    x0     x             y\n",
              "0    1   0.1  5.764952e+01\n",
              "1    1   0.2  4.740870e+01\n",
              "2    1   0.3  6.946902e+01\n",
              "3    1   0.4  3.755086e+01\n",
              "4    1   0.5  7.860685e+01\n",
              "..  ..   ...           ...\n",
              "95   1   9.6  3.636073e+05\n",
              "96   1   9.7  8.819300e+05\n",
              "97   1   9.8  1.053557e+06\n",
              "98   1   9.9  4.503040e+05\n",
              "99   1  10.0  1.311153e+06\n",
              "\n",
              "[100 rows x 3 columns]"
            ],
            "text/html": [
              "\n",
              "  <div id=\"df-1a736d14-b10f-4067-ad94-bd69bc1185f9\" class=\"colab-df-container\">\n",
              "    <div>\n",
              "<style scoped>\n",
              "    .dataframe tbody tr th:only-of-type {\n",
              "        vertical-align: middle;\n",
              "    }\n",
              "\n",
              "    .dataframe tbody tr th {\n",
              "        vertical-align: top;\n",
              "    }\n",
              "\n",
              "    .dataframe thead th {\n",
              "        text-align: right;\n",
              "    }\n",
              "</style>\n",
              "<table border=\"1\" class=\"dataframe\">\n",
              "  <thead>\n",
              "    <tr style=\"text-align: right;\">\n",
              "      <th></th>\n",
              "      <th>x0</th>\n",
              "      <th>x</th>\n",
              "      <th>y</th>\n",
              "    </tr>\n",
              "  </thead>\n",
              "  <tbody>\n",
              "    <tr>\n",
              "      <th>0</th>\n",
              "      <td>1</td>\n",
              "      <td>0.1</td>\n",
              "      <td>5.764952e+01</td>\n",
              "    </tr>\n",
              "    <tr>\n",
              "      <th>1</th>\n",
              "      <td>1</td>\n",
              "      <td>0.2</td>\n",
              "      <td>4.740870e+01</td>\n",
              "    </tr>\n",
              "    <tr>\n",
              "      <th>2</th>\n",
              "      <td>1</td>\n",
              "      <td>0.3</td>\n",
              "      <td>6.946902e+01</td>\n",
              "    </tr>\n",
              "    <tr>\n",
              "      <th>3</th>\n",
              "      <td>1</td>\n",
              "      <td>0.4</td>\n",
              "      <td>3.755086e+01</td>\n",
              "    </tr>\n",
              "    <tr>\n",
              "      <th>4</th>\n",
              "      <td>1</td>\n",
              "      <td>0.5</td>\n",
              "      <td>7.860685e+01</td>\n",
              "    </tr>\n",
              "    <tr>\n",
              "      <th>...</th>\n",
              "      <td>...</td>\n",
              "      <td>...</td>\n",
              "      <td>...</td>\n",
              "    </tr>\n",
              "    <tr>\n",
              "      <th>95</th>\n",
              "      <td>1</td>\n",
              "      <td>9.6</td>\n",
              "      <td>3.636073e+05</td>\n",
              "    </tr>\n",
              "    <tr>\n",
              "      <th>96</th>\n",
              "      <td>1</td>\n",
              "      <td>9.7</td>\n",
              "      <td>8.819300e+05</td>\n",
              "    </tr>\n",
              "    <tr>\n",
              "      <th>97</th>\n",
              "      <td>1</td>\n",
              "      <td>9.8</td>\n",
              "      <td>1.053557e+06</td>\n",
              "    </tr>\n",
              "    <tr>\n",
              "      <th>98</th>\n",
              "      <td>1</td>\n",
              "      <td>9.9</td>\n",
              "      <td>4.503040e+05</td>\n",
              "    </tr>\n",
              "    <tr>\n",
              "      <th>99</th>\n",
              "      <td>1</td>\n",
              "      <td>10.0</td>\n",
              "      <td>1.311153e+06</td>\n",
              "    </tr>\n",
              "  </tbody>\n",
              "</table>\n",
              "<p>100 rows × 3 columns</p>\n",
              "</div>\n",
              "    <div class=\"colab-df-buttons\">\n",
              "\n",
              "  <div class=\"colab-df-container\">\n",
              "    <button class=\"colab-df-convert\" onclick=\"convertToInteractive('df-1a736d14-b10f-4067-ad94-bd69bc1185f9')\"\n",
              "            title=\"Convert this dataframe to an interactive table.\"\n",
              "            style=\"display:none;\">\n",
              "\n",
              "  <svg xmlns=\"http://www.w3.org/2000/svg\" height=\"24px\" viewBox=\"0 -960 960 960\">\n",
              "    <path d=\"M120-120v-720h720v720H120Zm60-500h600v-160H180v160Zm220 220h160v-160H400v160Zm0 220h160v-160H400v160ZM180-400h160v-160H180v160Zm440 0h160v-160H620v160ZM180-180h160v-160H180v160Zm440 0h160v-160H620v160Z\"/>\n",
              "  </svg>\n",
              "    </button>\n",
              "\n",
              "  <style>\n",
              "    .colab-df-container {\n",
              "      display:flex;\n",
              "      gap: 12px;\n",
              "    }\n",
              "\n",
              "    .colab-df-convert {\n",
              "      background-color: #E8F0FE;\n",
              "      border: none;\n",
              "      border-radius: 50%;\n",
              "      cursor: pointer;\n",
              "      display: none;\n",
              "      fill: #1967D2;\n",
              "      height: 32px;\n",
              "      padding: 0 0 0 0;\n",
              "      width: 32px;\n",
              "    }\n",
              "\n",
              "    .colab-df-convert:hover {\n",
              "      background-color: #E2EBFA;\n",
              "      box-shadow: 0px 1px 2px rgba(60, 64, 67, 0.3), 0px 1px 3px 1px rgba(60, 64, 67, 0.15);\n",
              "      fill: #174EA6;\n",
              "    }\n",
              "\n",
              "    .colab-df-buttons div {\n",
              "      margin-bottom: 4px;\n",
              "    }\n",
              "\n",
              "    [theme=dark] .colab-df-convert {\n",
              "      background-color: #3B4455;\n",
              "      fill: #D2E3FC;\n",
              "    }\n",
              "\n",
              "    [theme=dark] .colab-df-convert:hover {\n",
              "      background-color: #434B5C;\n",
              "      box-shadow: 0px 1px 3px 1px rgba(0, 0, 0, 0.15);\n",
              "      filter: drop-shadow(0px 1px 2px rgba(0, 0, 0, 0.3));\n",
              "      fill: #FFFFFF;\n",
              "    }\n",
              "  </style>\n",
              "\n",
              "    <script>\n",
              "      const buttonEl =\n",
              "        document.querySelector('#df-1a736d14-b10f-4067-ad94-bd69bc1185f9 button.colab-df-convert');\n",
              "      buttonEl.style.display =\n",
              "        google.colab.kernel.accessAllowed ? 'block' : 'none';\n",
              "\n",
              "      async function convertToInteractive(key) {\n",
              "        const element = document.querySelector('#df-1a736d14-b10f-4067-ad94-bd69bc1185f9');\n",
              "        const dataTable =\n",
              "          await google.colab.kernel.invokeFunction('convertToInteractive',\n",
              "                                                    [key], {});\n",
              "        if (!dataTable) return;\n",
              "\n",
              "        const docLinkHtml = 'Like what you see? Visit the ' +\n",
              "          '<a target=\"_blank\" href=https://colab.research.google.com/notebooks/data_table.ipynb>data table notebook</a>'\n",
              "          + ' to learn more about interactive tables.';\n",
              "        element.innerHTML = '';\n",
              "        dataTable['output_type'] = 'display_data';\n",
              "        await google.colab.output.renderOutput(dataTable, element);\n",
              "        const docLink = document.createElement('div');\n",
              "        docLink.innerHTML = docLinkHtml;\n",
              "        element.appendChild(docLink);\n",
              "      }\n",
              "    </script>\n",
              "  </div>\n",
              "\n",
              "\n",
              "<div id=\"df-63bac882-69e2-4586-924f-47e19589a613\">\n",
              "  <button class=\"colab-df-quickchart\" onclick=\"quickchart('df-63bac882-69e2-4586-924f-47e19589a613')\"\n",
              "            title=\"Suggest charts\"\n",
              "            style=\"display:none;\">\n",
              "\n",
              "<svg xmlns=\"http://www.w3.org/2000/svg\" height=\"24px\"viewBox=\"0 0 24 24\"\n",
              "     width=\"24px\">\n",
              "    <g>\n",
              "        <path d=\"M19 3H5c-1.1 0-2 .9-2 2v14c0 1.1.9 2 2 2h14c1.1 0 2-.9 2-2V5c0-1.1-.9-2-2-2zM9 17H7v-7h2v7zm4 0h-2V7h2v10zm4 0h-2v-4h2v4z\"/>\n",
              "    </g>\n",
              "</svg>\n",
              "  </button>\n",
              "\n",
              "<style>\n",
              "  .colab-df-quickchart {\n",
              "      --bg-color: #E8F0FE;\n",
              "      --fill-color: #1967D2;\n",
              "      --hover-bg-color: #E2EBFA;\n",
              "      --hover-fill-color: #174EA6;\n",
              "      --disabled-fill-color: #AAA;\n",
              "      --disabled-bg-color: #DDD;\n",
              "  }\n",
              "\n",
              "  [theme=dark] .colab-df-quickchart {\n",
              "      --bg-color: #3B4455;\n",
              "      --fill-color: #D2E3FC;\n",
              "      --hover-bg-color: #434B5C;\n",
              "      --hover-fill-color: #FFFFFF;\n",
              "      --disabled-bg-color: #3B4455;\n",
              "      --disabled-fill-color: #666;\n",
              "  }\n",
              "\n",
              "  .colab-df-quickchart {\n",
              "    background-color: var(--bg-color);\n",
              "    border: none;\n",
              "    border-radius: 50%;\n",
              "    cursor: pointer;\n",
              "    display: none;\n",
              "    fill: var(--fill-color);\n",
              "    height: 32px;\n",
              "    padding: 0;\n",
              "    width: 32px;\n",
              "  }\n",
              "\n",
              "  .colab-df-quickchart:hover {\n",
              "    background-color: var(--hover-bg-color);\n",
              "    box-shadow: 0 1px 2px rgba(60, 64, 67, 0.3), 0 1px 3px 1px rgba(60, 64, 67, 0.15);\n",
              "    fill: var(--button-hover-fill-color);\n",
              "  }\n",
              "\n",
              "  .colab-df-quickchart-complete:disabled,\n",
              "  .colab-df-quickchart-complete:disabled:hover {\n",
              "    background-color: var(--disabled-bg-color);\n",
              "    fill: var(--disabled-fill-color);\n",
              "    box-shadow: none;\n",
              "  }\n",
              "\n",
              "  .colab-df-spinner {\n",
              "    border: 2px solid var(--fill-color);\n",
              "    border-color: transparent;\n",
              "    border-bottom-color: var(--fill-color);\n",
              "    animation:\n",
              "      spin 1s steps(1) infinite;\n",
              "  }\n",
              "\n",
              "  @keyframes spin {\n",
              "    0% {\n",
              "      border-color: transparent;\n",
              "      border-bottom-color: var(--fill-color);\n",
              "      border-left-color: var(--fill-color);\n",
              "    }\n",
              "    20% {\n",
              "      border-color: transparent;\n",
              "      border-left-color: var(--fill-color);\n",
              "      border-top-color: var(--fill-color);\n",
              "    }\n",
              "    30% {\n",
              "      border-color: transparent;\n",
              "      border-left-color: var(--fill-color);\n",
              "      border-top-color: var(--fill-color);\n",
              "      border-right-color: var(--fill-color);\n",
              "    }\n",
              "    40% {\n",
              "      border-color: transparent;\n",
              "      border-right-color: var(--fill-color);\n",
              "      border-top-color: var(--fill-color);\n",
              "    }\n",
              "    60% {\n",
              "      border-color: transparent;\n",
              "      border-right-color: var(--fill-color);\n",
              "    }\n",
              "    80% {\n",
              "      border-color: transparent;\n",
              "      border-right-color: var(--fill-color);\n",
              "      border-bottom-color: var(--fill-color);\n",
              "    }\n",
              "    90% {\n",
              "      border-color: transparent;\n",
              "      border-bottom-color: var(--fill-color);\n",
              "    }\n",
              "  }\n",
              "</style>\n",
              "\n",
              "  <script>\n",
              "    async function quickchart(key) {\n",
              "      const quickchartButtonEl =\n",
              "        document.querySelector('#' + key + ' button');\n",
              "      quickchartButtonEl.disabled = true;  // To prevent multiple clicks.\n",
              "      quickchartButtonEl.classList.add('colab-df-spinner');\n",
              "      try {\n",
              "        const charts = await google.colab.kernel.invokeFunction(\n",
              "            'suggestCharts', [key], {});\n",
              "      } catch (error) {\n",
              "        console.error('Error during call to suggestCharts:', error);\n",
              "      }\n",
              "      quickchartButtonEl.classList.remove('colab-df-spinner');\n",
              "      quickchartButtonEl.classList.add('colab-df-quickchart-complete');\n",
              "    }\n",
              "    (() => {\n",
              "      let quickchartButtonEl =\n",
              "        document.querySelector('#df-63bac882-69e2-4586-924f-47e19589a613 button');\n",
              "      quickchartButtonEl.style.display =\n",
              "        google.colab.kernel.accessAllowed ? 'block' : 'none';\n",
              "    })();\n",
              "  </script>\n",
              "</div>\n",
              "    </div>\n",
              "  </div>\n"
            ]
          },
          "metadata": {},
          "execution_count": 212
        }
      ],
      "source": [
        "data1"
      ]
    },
    {
      "cell_type": "code",
      "source": [
        "def getVector(idx):\n",
        "  \"\"\"Returns a vector for the provided index\"\"\"\n",
        "  return np.array((data1.iloc[idx][:dimension],))"
      ],
      "metadata": {
        "id": "kAKEWzuO4tHb"
      },
      "execution_count": 213,
      "outputs": []
    },
    {
      "cell_type": "code",
      "execution_count": 214,
      "metadata": {
        "id": "sf3wblHraU_e"
      },
      "outputs": [],
      "source": [
        "y_values = list(data1['y'])"
      ]
    },
    {
      "cell_type": "markdown",
      "source": [],
      "metadata": {
        "id": "mTeNJoKPUce_"
      }
    },
    {
      "cell_type": "code",
      "execution_count": 215,
      "metadata": {
        "colab": {
          "base_uri": "https://localhost:8080/"
        },
        "id": "gky4Li3KZDQ-",
        "outputId": "61ddaca6-fab9-4817-b276-ea571eb279d4"
      },
      "outputs": [
        {
          "output_type": "execute_result",
          "data": {
            "text/plain": [
              "array([[ 0.04060606, -0.00606061],\n",
              "       [-0.00606061,  0.00120012]])"
            ]
          },
          "metadata": {},
          "execution_count": 215
        }
      ],
      "source": [
        "sum_xi_xiT = np.zeros((dimension, dimension))\n",
        "for i in range(len(data1)):\n",
        "  sum_xi_xiT += (getVector(i)) * (getVector(i).T)\n",
        "\n",
        "inverse_sum = pinv(sum_xi_xiT)\n",
        "inverse_sum"
      ]
    },
    {
      "cell_type": "code",
      "execution_count": 216,
      "metadata": {
        "colab": {
          "base_uri": "https://localhost:8080/"
        },
        "id": "S4Yv6Qm_bJmG",
        "outputId": "80dace12-253f-413f-adeb-4b320923cdef"
      },
      "outputs": [
        {
          "output_type": "execute_result",
          "data": {
            "text/plain": [
              "array([[ 8453004.94642936],\n",
              "       [77353900.97809686]])"
            ]
          },
          "metadata": {},
          "execution_count": 216
        }
      ],
      "source": [
        "sum_xi_yi = np.array(([0.0]*dimension,))\n",
        "for i in range(len(data1)):\n",
        "  sum_xi_yi += (getVector(i)) * (y_values[i])\n",
        "\n",
        "sum_xi_yi = sum_xi_yi.T\n",
        "sum_xi_yi"
      ]
    },
    {
      "cell_type": "code",
      "execution_count": 217,
      "metadata": {
        "colab": {
          "base_uri": "https://localhost:8080/"
        },
        "id": "Zq-qqE8EbLv2",
        "outputId": "b20b8bac-6443-428e-ace2-2ad3ab1235c0"
      },
      "outputs": [
        {
          "output_type": "execute_result",
          "data": {
            "text/plain": [
              "array([[-125568.28992134],\n",
              "       [  41603.63156151]])"
            ]
          },
          "metadata": {},
          "execution_count": 217
        }
      ],
      "source": [
        "w = inverse_sum @ sum_xi_yi\n",
        "w"
      ]
    },
    {
      "cell_type": "markdown",
      "source": [
        "Prediction:\n",
        "y^ = W<sup>T</sup>X"
      ],
      "metadata": {
        "id": "e9nU8F1mBOh8"
      }
    },
    {
      "cell_type": "code",
      "source": [
        "predicted_yi = []\n",
        "for i in range(len(data1)):\n",
        "  predicted_yi.append(w.T @ getVector(i).T)\n",
        "# predicted_yi"
      ],
      "metadata": {
        "id": "m4tHIh3J1lWU"
      },
      "execution_count": 218,
      "outputs": []
    },
    {
      "cell_type": "code",
      "source": [
        "meanOfy = data1['y'].mean()\n",
        "meanOfy"
      ],
      "metadata": {
        "colab": {
          "base_uri": "https://localhost:8080/"
        },
        "id": "wjVj3CqUDpWn",
        "outputId": "76d17530-e339-4009-f0c4-9307c55c99f9"
      },
      "execution_count": 219,
      "outputs": [
        {
          "output_type": "execute_result",
          "data": {
            "text/plain": [
              "84530.04946429358"
            ]
          },
          "metadata": {},
          "execution_count": 219
        }
      ]
    },
    {
      "cell_type": "code",
      "source": [
        "# Calculating Residual Sum of Squares (RSS)\n",
        "RSS = 0\n",
        "for i in range(len(data1)):\n",
        "  RSS += math.pow((y_values[i] - predicted_yi[i]), 2)\n",
        "RSS"
      ],
      "metadata": {
        "colab": {
          "base_uri": "https://localhost:8080/"
        },
        "id": "pwaVS-4hDpTs",
        "outputId": "8c14a156-839f-42e4-e205-d7c0b00cf6ae"
      },
      "execution_count": 220,
      "outputs": [
        {
          "output_type": "execute_result",
          "data": {
            "text/plain": [
              "2757778585316.4067"
            ]
          },
          "metadata": {},
          "execution_count": 220
        }
      ]
    },
    {
      "cell_type": "code",
      "source": [
        "# Calculating Total Sum of Squares (TSS)\n",
        "TSS = 0\n",
        "for i in range(len(data1)):\n",
        "  TSS += math.pow((y_values[i] - meanOfy), 2)\n",
        "TSS"
      ],
      "metadata": {
        "colab": {
          "base_uri": "https://localhost:8080/"
        },
        "id": "iAnlE9hoEUBP",
        "outputId": "04ca8046-0ff6-4c37-93c2-817192148b5b"
      },
      "execution_count": 221,
      "outputs": [
        {
          "output_type": "execute_result",
          "data": {
            "text/plain": [
              "4200019479391.407"
            ]
          },
          "metadata": {},
          "execution_count": 221
        }
      ]
    },
    {
      "cell_type": "markdown",
      "source": [
        "Calculating:\n",
        "> R<sup>2</sup> = 1 - (RSS/TSS)"
      ],
      "metadata": {
        "id": "DTkXkoluDBX9"
      }
    },
    {
      "cell_type": "code",
      "source": [
        "rSquare = 1-(RSS/TSS)\n",
        "rSquare"
      ],
      "metadata": {
        "colab": {
          "base_uri": "https://localhost:8080/"
        },
        "id": "2kBESm292eSv",
        "outputId": "41b90e9c-ab91-4a40-d844-9c547bd6d151"
      },
      "execution_count": 222,
      "outputs": [
        {
          "output_type": "execute_result",
          "data": {
            "text/plain": [
              "0.34338909644390136"
            ]
          },
          "metadata": {},
          "execution_count": 222
        }
      ]
    },
    {
      "cell_type": "code",
      "source": [
        "# Calculating Mean Absolute Error (MAE)\n",
        "MAE = 0\n",
        "for i in range(len(data1)):\n",
        "  MAE += abs(y_values[i] - predicted_yi[i])\n",
        "MAE = MAE[0][0]"
      ],
      "metadata": {
        "id": "rH0bgwYZC4Lk"
      },
      "execution_count": 223,
      "outputs": []
    },
    {
      "cell_type": "markdown",
      "source": [
        "## My model:"
      ],
      "metadata": {
        "id": "1OuJhf4JJDdT"
      }
    },
    {
      "cell_type": "code",
      "source": [
        "print(\"Normalized MSE: \", RSS/len(data1))\n",
        "print(\"Normalized MAE: \", MAE/len(data1))\n",
        "print(\"Normalized RMSE: \", math.pow(RSS/len(data1), 0.5))\n",
        "print(\"R Square: \", rSquare)"
      ],
      "metadata": {
        "colab": {
          "base_uri": "https://localhost:8080/"
        },
        "id": "8plxK03FHyvO",
        "outputId": "b8991c5a-8e49-46c8-dbdd-d8ef377528c2"
      },
      "execution_count": 224,
      "outputs": [
        {
          "output_type": "stream",
          "name": "stdout",
          "text": [
            "Normalized MSE:  27577785853.164066\n",
            "Normalized MAE:  99929.78329714174\n",
            "Normalized RMSE:  166065.60707492707\n",
            "R Square:  0.34338909644390136\n"
          ]
        }
      ]
    },
    {
      "cell_type": "code",
      "source": [
        "try:\n",
        "  # For linear\n",
        "  pre_yi = np.array(predicted_yi).reshape(100,1)   # reshaping predicted yi to nx1\n",
        "\n",
        "  plt.scatter(list(data1['x']), list(data1['y']), s=0.4)\n",
        "  plt.plot(list(data1['x']), pre_yi)\n",
        "  plt.tick_params(left = False, bottom = False)\n",
        "  plt.show()\n",
        "except:\n",
        "  print(\"Cannot plot for multi-dimensional dataset\")\n",
        "  None # for multi-dimensional"
      ],
      "metadata": {
        "colab": {
          "base_uri": "https://localhost:8080/",
          "height": 445
        },
        "id": "SqZWdWDPJgKH",
        "outputId": "f37ee809-1c6f-4645-9808-8bd40479dcc8"
      },
      "execution_count": 225,
      "outputs": [
        {
          "output_type": "display_data",
          "data": {
            "text/plain": [
              "<Figure size 640x480 with 1 Axes>"
            ],
            "image/png": "[encoded data removed]"
          },
          "metadata": {}
        }
      ]
    },
    {
      "cell_type": "markdown",
      "source": [
        "Calculating Errors from sklearn package"
      ],
      "metadata": {
        "id": "C1qqBvU6N7qC"
      }
    },
    {
      "cell_type": "code",
      "source": [
        "mae = mean_absolute_error(y_true=y_values,y_pred=pre_yi)\n",
        "mse = mean_squared_error(y_true=y_values,y_pred=pre_yi)\n",
        "rmse = mean_squared_error(y_true=y_values,y_pred=pre_yi,squared=False)\n",
        "r_square = r2_score(y_values, pre_yi)\n",
        "\n",
        "print(\"MSE:\",mse)\n",
        "print(\"MAE:\",mae)\n",
        "print(\"RMSE:\",rmse)\n",
        "print(\"R2: \", r_square)"
      ],
      "metadata": {
        "colab": {
          "base_uri": "https://localhost:8080/"
        },
        "id": "mHhLPco-LAXF",
        "outputId": "5e53040a-bd2c-457e-a58b-8ba1f93f71d2"
      },
      "execution_count": 226,
      "outputs": [
        {
          "output_type": "stream",
          "name": "stdout",
          "text": [
            "MSE: 27577785853.164074\n",
            "MAE: 99929.78329714174\n",
            "RMSE: 166065.6070749271\n",
            "R2:  0.34338909644390125\n"
          ]
        }
      ]
    },
    {
      "cell_type": "code",
      "source": [
        "def polynomial_regression_gradient_descent(X, y, degree, learning_rate=0.01, iterations=1000, tol=1e-5):\n",
        "    X_poly = np.c_[np.ones((len(X), 1)), X]\n",
        "    for d in range(2, degree + 1):\n",
        "        X_poly = np.c_[X_poly, X_poly[:, 1]**d]\n",
        "\n",
        "    theta = np.random.randn(degree + 1, 1)\n",
        "\n",
        "    m = len(y)\n",
        "    prev_cost = float('inf')\n",
        "    for iteration in range(iterations):\n",
        "        predictions = X_poly.dot(theta)\n",
        "        errors = predictions - y.reshape(-1, 1)\n",
        "\n",
        "        gradients = 2/m * X_poly.T.dot(errors)\n",
        "\n",
        "        theta -= learning_rate * gradients\n",
        "\n",
        "        cost = np.mean(errors**2)\n",
        "\n",
        "        if abs(prev_cost - cost) < tol:\n",
        "            break\n",
        "\n",
        "        prev_cost = cost\n",
        "\n",
        "    return theta\n",
        "\n",
        "def predict(X, theta):\n",
        "    return X.dot(theta)\n",
        "\n",
        "X = np.array(data1['x'])\n",
        "y_values = np.array(data1['y'])\n",
        "theta = polynomial_regression_gradient_descent(X, y_values, dimension, learning_rate=0.0001)\n",
        "\n",
        "X_poly = np.c_[np.ones((len(X), 1)), X]\n",
        "for d in range(2, dimension + 1):\n",
        "    X_poly = np.c_[X_poly, X_poly[:, 1]**d]\n",
        "\n",
        "y_pred = predict(X_poly, theta)\n",
        "\n",
        "\n",
        "mae = mean_absolute_error(y_values, y_pred)\n",
        "mse = mean_squared_error(y_values, y_pred)\n",
        "rmse = np.sqrt(mse)\n",
        "r2 = r2_score(y_values, y_pred)\n",
        "\n",
        "print(f'MAE: {mae}')\n",
        "print(f'MSE: {mse}')\n",
        "print(f'RMSE: {rmse}')\n",
        "print(f'R2: {r2}')\n",
        "\n",
        "plt.scatter(list(data1['x']), y_values, label='Actual', s=0.5)\n",
        "plt.plot(list(data1['x']), y_pred, color='red', label='Predicted')\n",
        "plt.xlabel('X')\n",
        "plt.ylabel('y')\n",
        "plt.legend()\n",
        "plt.show()"
      ],
      "metadata": {
        "id": "4402iV2pPJOo",
        "colab": {
          "base_uri": "https://localhost:8080/",
          "height": 534
        },
        "outputId": "0bfd0821-51f9-4898-827d-266f8973435a"
      },
      "execution_count": 227,
      "outputs": [
        {
          "output_type": "stream",
          "name": "stdout",
          "text": [
            "MAE: 71670.39156710415\n",
            "MSE: 20387175828.89852\n",
            "RMSE: 142783.66793474148\n",
            "R2: 0.5145933029850454\n"
          ]
        },
        {
          "output_type": "display_data",
          "data": {
            "text/plain": [
              "<Figure size 640x480 with 1 Axes>"
            ],
            "image/png": "[encoded data removed]"
          },
          "metadata": {}
        }
      ]
    },
    {
      "cell_type": "code",
      "source": [],
      "metadata": {
        "id": "DfDQ92ucZsfo"
      },
      "execution_count": 227,
      "outputs": []
    }
  ],
  "metadata": {
    "colab": {
      "provenance": []
    },
    "kernelspec": {
      "display_name": "Python 3",
      "name": "python3"
    },
    "language_info": {
      "name": "python"
    }
  },
  "nbformat": 4,
  "nbformat_minor": 0
}